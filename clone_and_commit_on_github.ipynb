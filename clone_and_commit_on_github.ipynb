{
  "cells": [
    {
      "cell_type": "code",
      "execution_count": null,
      "metadata": {
        "colab": {
          "base_uri": "https://localhost:8080/"
        },
        "id": "GQ7bx74XPyk_",
        "outputId": "918a159f-63ff-4804-97e4-015235f5e204"
      },
      "outputs": [
        {
          "name": "stdout",
          "output_type": "stream",
          "text": [
            "Drive already mounted at /content/drive/; to attempt to forcibly remount, call drive.mount(\"/content/drive/\", force_remount=True).\n"
          ]
        }
      ],
      "source": [
        "# mount google drive\n",
        "from google.colab import drive\n",
        "drive.mount('/content/drive/')"
      ]
    },
    {
      "cell_type": "code",
      "execution_count": null,
      "metadata": {
        "id": "IW378NVvO-KF"
      },
      "outputs": [],
      "source": [
        "%cd \"path to clone git repository to\"\n",
        "!pwd\n",
        "!git clone <repo_link.git>"
      ]
    },
    {
      "cell_type": "code",
      "execution_count": null,
      "metadata": {
        "id": "PvcZZnLYQHlF"
      },
      "outputs": [],
      "source": [
        "!git config --global user.email \"\" # your email\n",
        "!git config --global user.name \"\" # your github username"
      ]
    },
    {
      "cell_type": "code",
      "execution_count": null,
      "metadata": {
        "colab": {
          "base_uri": "https://localhost:8080/"
        },
        "id": "WdozHUnOPD8W",
        "outputId": "3d93aedf-6b56-4b5b-f242-9138f48ae70f"
      },
      "outputs": [
        {
          "name": "stdout",
          "output_type": "stream",
          "text": [
            "/content/drive/MyDrive/Learning/Python\n",
            "/content/drive/MyDrive/Learning/Python\n"
          ]
        }
      ],
      "source": [
        "%cd \"<path>\"\n",
        "!pwd"
      ]
    },
    {
      "cell_type": "code",
      "execution_count": null,
      "metadata": {
        "id": "EQ5RLIILP2AW"
      },
      "outputs": [],
      "source": [
        "# check git status\n",
        "!git status"
      ]
    },
    {
      "cell_type": "code",
      "execution_count": null,
      "metadata": {
        "id": "YQ2MXLCqPWqw"
      },
      "outputs": [],
      "source": [
        "# add all files to git\n",
        "!git add ."
      ]
    },
    {
      "cell_type": "code",
      "execution_count": null,
      "metadata": {
        "id": "7olsGk3rPPxL"
      },
      "outputs": [],
      "source": [
        "# check git status : changes after addition\n",
        "!git status"
      ]
    },
    {
      "cell_type": "code",
      "execution_count": null,
      "metadata": {
        "id": "3LX0ZJhwTWPk"
      },
      "outputs": [],
      "source": [
        "# set url to your repository\n",
        "!git remote set-url origin <your repo link with auth token>"
      ]
    },
    {
      "cell_type": "code",
      "execution_count": null,
      "metadata": {
        "colab": {
          "base_uri": "https://localhost:8080/"
        },
        "id": "CMjBAw3KP7yN",
        "outputId": "013e7a15-1d2c-453f-c8e8-50f3c337d97c"
      },
      "outputs": [
        {
          "name": "stdout",
          "output_type": "stream",
          "text": [
            "[main 2f97924] Added Binary Search and Selection Sort Algorithm\n",
            " 2 files changed, 2 insertions(+), 1 deletion(-)\n",
            " rewrite algorithms/01-basic-search-algorithms.ipynb (90%)\n",
            " create mode 100644 algorithms/02-basic-sorting-algorithms.ipynb\n"
          ]
        }
      ],
      "source": [
        "# commit changes\n",
        "!git commit -m \"commit message here\" \\\n",
        "            -m \"commit description here\""
      ]
    },
    {
      "cell_type": "code",
      "execution_count": null,
      "metadata": {
        "id": "tyiyR0ihQjua"
      },
      "outputs": [],
      "source": [
        "!git remote -v # check what permissions are allowed  for fetch and push"
      ]
    },
    {
      "cell_type": "code",
      "execution_count": null,
      "metadata": {
        "id": "ucnrE7oSQEG8"
      },
      "outputs": [],
      "source": [
        "# push to origin\n",
        "!git push origin main"
      ]
    }
  ],
  "metadata": {
    "colab": {
      "provenance": []
    },
    "kernelspec": {
      "display_name": "Python 3",
      "name": "python3"
    },
    "language_info": {
      "name": "python"
    }
  },
  "nbformat": 4,
  "nbformat_minor": 0
}
